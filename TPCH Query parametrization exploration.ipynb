{
 "cells": [
  {
   "cell_type": "markdown",
   "metadata": {},
   "source": [
    "This notebook takes an input sql file, parametrizes relevant queries and outputs an sql file containing a larger, parametrized set of queries"
   ]
  },
  {
   "cell_type": "code",
   "execution_count": 1,
   "metadata": {},
   "outputs": [],
   "source": [
    "import re\n",
    "import math"
   ]
  },
  {
   "cell_type": "markdown",
   "metadata": {},
   "source": [
    "Import sql queries"
   ]
  },
  {
   "cell_type": "code",
   "execution_count": 4,
   "metadata": {},
   "outputs": [],
   "source": [
    "with open('tpch.txt') as file: #Todo- change this to a sql file..\n",
    "    all_queries = file.read()"
   ]
  },
  {
   "cell_type": "code",
   "execution_count": 9,
   "metadata": {},
   "outputs": [
    {
     "name": "stdout",
     "output_type": "stream",
     "text": [
      "24\n",
      "\n",
      "\n",
      "-- TPC-H 6\n",
      "select\n",
      "\tsum(l_extendedprice * l_discount) as revenue\n",
      "from\n",
      "\tsnowflake_sample_data.tpch_sf1.lineitem\n",
      "where\n",
      "\tl_shipdate >= date '1994-01-01'\n",
      "\tAND l_shipdate < DATEADD(year, 1, '1994-01-01')\n",
      "\tand l_discount between .06 - 0.01 and .06 + 0.01\n",
      "\tand l_quantity < 24\n"
     ]
    }
   ],
   "source": [
    "query_list = all_queries.split(';')\n",
    "print(len(query_list))\n",
    "print(query_list[5])"
   ]
  },
  {
   "cell_type": "markdown",
   "metadata": {},
   "source": [
    "Parametrizing by dateadd functions"
   ]
  },
  {
   "cell_type": "code",
   "execution_count": 12,
   "metadata": {},
   "outputs": [],
   "source": [
    "final_query_output = []\n",
    "for query in query_list:\n",
    "    #Split query by dateadd function into a list of query 'fragments'.\n",
    "    arglist = re.split(\"dateadd\", query, flags=re.IGNORECASE)\n",
    "    \n",
    "    #if there is at least one dateadd in the query...\n",
    "    if len(arglist) > 1:\n",
    "        for query_fragment in arglist[1:]:\n",
    "            int_to_change = query_fragment.split(',')[1].strip() #first element will be the numeric argument of dateadd\n",
    "            \n",
    "            outer_index = query.index(query_fragment)\n",
    "            inner_index = query_fragment.index(int_to_change)\n",
    "            full_index = outer_index + inner_index\n",
    "            \n",
    "            #update the parameter and save off to a new query for each mod factor.\n",
    "            for mod in [0.5, 1, 2]:\n",
    "                modded_int = math.ceil(mod * int(int_to_change))\n",
    "                modded_query = query[:full_index] + int_to_change + query[full_index+len(int_to_change):]\n",
    "                final_query_output.append(modded_query)\n",
    "    \n",
    "    #no dateadd, so just add query\n",
    "    else:\n",
    "        final_query_output.append(query)"
   ]
  },
  {
   "cell_type": "code",
   "execution_count": 13,
   "metadata": {},
   "outputs": [
    {
     "name": "stdout",
     "output_type": "stream",
     "text": [
      "42\n"
     ]
    }
   ],
   "source": [
    "print(len(final_query_output))"
   ]
  },
  {
   "cell_type": "code",
   "execution_count": 21,
   "metadata": {},
   "outputs": [],
   "source": [
    "sql_string = \";\\n\".join([q for q in final_query_output])\n",
    "#print(sql_string)"
   ]
  },
  {
   "cell_type": "code",
   "execution_count": 22,
   "metadata": {},
   "outputs": [],
   "source": [
    "# Write to output SQL file... \n",
    "with open('output.sql', 'w') as outfile:\n",
    "    outfile.write(sql_string)"
   ]
  },
  {
   "cell_type": "markdown",
   "metadata": {},
   "source": [
    "Todo:\n",
    "- Get rid of overlap in dateadds to prevent caching.\n",
    "- Find other arguments to parametrize programatically"
   ]
  }
 ],
 "metadata": {
  "kernelspec": {
   "display_name": "Python 3",
   "language": "python",
   "name": "python3"
  },
  "language_info": {
   "codemirror_mode": {
    "name": "ipython",
    "version": 3
   },
   "file_extension": ".py",
   "mimetype": "text/x-python",
   "name": "python",
   "nbconvert_exporter": "python",
   "pygments_lexer": "ipython3",
   "version": "3.8.5"
  }
 },
 "nbformat": 4,
 "nbformat_minor": 4
}
